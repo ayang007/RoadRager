{
 "cells": [
  {
   "cell_type": "code",
   "execution_count": 1,
   "id": "6d957fc2-7e94-485d-8ff3-6104c4ca0047",
   "metadata": {},
   "outputs": [],
   "source": [
    "import pandas as pd\n",
    "import numpy as np"
   ]
  },
  {
   "cell_type": "code",
   "execution_count": 2,
   "id": "5770e285-332a-47fb-8c22-9869cc55bd06",
   "metadata": {},
   "outputs": [
    {
     "name": "stdout",
     "output_type": "stream",
     "text": [
      "         ID                   V1  V3  V4     V7  V8     V9   V10    V11  V18\n",
      "0  DR_24526  2012-03-21 09:14:55   1  81  57227  87  16986   941   94.0  Dry\n",
      "1  DR_24526  2012-03-21 09:15:07   1  88  57229  81   1708   551   11.0  Dry\n",
      "2  DR_24526  2012-03-21 09:15:12   1  88  57230  88  22892  1698    4.0  Dry\n",
      "3  DR_24526  2012-03-21 09:15:48   2  84  57228  89   1945   544  127.0  Dry\n",
      "4  DR_24526  2012-03-21 09:15:54   1  89  57231  88  13787  1893   42.0  Dry\n",
      "         ID  V12    V13   V14   V15    V16  V17       V19\n",
      "0  DR_24526  7.0  clear  None  95.0  146.0  1.0  daylight\n",
      "1  DR_24526  7.0  clear  None  95.0  124.0  0.0  daylight\n",
      "2  DR_24526  7.0  clear  None  95.0  124.0  0.0  daylight\n",
      "3  DR_24526  7.0  clear  None  95.0  124.0  0.0  daylight\n",
      "4  DR_24526  7.0  clear  None  95.0  124.0  0.0  daylight\n",
      "         ID    V2     V5  V6  DrivingStyle\n",
      "0  DR_24526  1265  10243   2             2\n",
      "1  DR_30052  1680  30871   6             2\n",
      "2  DR_40928   936   3224   4             2\n",
      "3  DR_66033  1503   3315   4             2\n",
      "4  DR_45266   929   3022   4             2\n"
     ]
    }
   ],
   "source": [
    "#vehicle traveling data\n",
    "id_vtd = pd.read_csv('./Train_Data/Train_Vehicletravellingdata.csv')\n",
    "print(id_vtd.head())\n",
    "#weather data\n",
    "id_wd = pd.read_csv('./Train_Data/Train_WeatherData.csv')\n",
    "id_wd = id_wd.drop('V1', axis=1)\n",
    "print(id_wd.head())\n",
    "#contains result column\n",
    "id_r = pd.read_csv('./Train_Data/Train.csv')\n",
    "print(id_r.head())"
   ]
  },
  {
   "cell_type": "code",
   "execution_count": 3,
   "id": "719da46b-3577-41af-bb05-1f34bf695b03",
   "metadata": {},
   "outputs": [
    {
     "name": "stdout",
     "output_type": "stream",
     "text": [
      "         ID                   V1  V3  V4     V7  V8     V9  V10   V11  V18  \\\n",
      "0  DR_24526  2012-03-21 09:14:55   1  81  57227  87  16986  941  94.0  Dry   \n",
      "1  DR_24526  2012-03-21 09:14:55   1  81  57227  87  16986  941  94.0  Dry   \n",
      "2  DR_24526  2012-03-21 09:14:55   1  81  57227  87  16986  941  94.0  Dry   \n",
      "3  DR_24526  2012-03-21 09:14:55   1  81  57227  87  16986  941  94.0  Dry   \n",
      "4  DR_24526  2012-03-21 09:14:55   1  81  57227  87  16986  941  94.0  Dry   \n",
      "\n",
      "   ...    V13   V14   V15    V16  V17       V19    V2     V5  V6  DrivingStyle  \n",
      "0  ...  clear  None  95.0  146.0  1.0  daylight  1265  10243   2             2  \n",
      "1  ...  clear  None  95.0  124.0  0.0  daylight  1265  10243   2             2  \n",
      "2  ...  clear  None  95.0  124.0  0.0  daylight  1265  10243   2             2  \n",
      "3  ...  clear  None  95.0  124.0  0.0  daylight  1265  10243   2             2  \n",
      "4  ...  clear  None  95.0  124.0  0.0  daylight  1265  10243   2             2  \n",
      "\n",
      "[5 rows x 21 columns]\n"
     ]
    }
   ],
   "source": [
    "# merge vtd and wd\n",
    "id_merge = pd.merge(id_vtd, id_wd, on=['ID','ID'])\n",
    "# merge r with previous\n",
    "id_merge = pd.merge(id_merge, id_r, on=['ID','ID'])\n",
    "print(id_merge.head())"
   ]
  },
  {
   "cell_type": "code",
   "execution_count": 4,
   "id": "e4e527bc-c7c0-4564-b15f-4462fbf550ae",
   "metadata": {},
   "outputs": [
    {
     "name": "stdout",
     "output_type": "stream",
     "text": [
      "   V3  V4  V8     V9  V10   V11  V18  V12    V13   V15  V17       V19    V2  \\\n",
      "0   1  81  87  16986  941  94.0  Dry  7.0  clear  95.0  1.0  daylight  1265   \n",
      "1   1  81  87  16986  941  94.0  Dry  7.0  clear  95.0  0.0  daylight  1265   \n",
      "2   1  81  87  16986  941  94.0  Dry  7.0  clear  95.0  0.0  daylight  1265   \n",
      "3   1  81  87  16986  941  94.0  Dry  7.0  clear  95.0  0.0  daylight  1265   \n",
      "4   1  81  87  16986  941  94.0  Dry  7.0  clear  95.0  0.0  daylight  1265   \n",
      "\n",
      "      V5  V6  DrivingStyle  \n",
      "0  10243   2             2  \n",
      "1  10243   2             2  \n",
      "2  10243   2             2  \n",
      "3  10243   2             2  \n",
      "4  10243   2             2  \n"
     ]
    }
   ],
   "source": [
    "# drop columns that aren't useful to us\n",
    "id_merge = id_merge.drop(['ID','V1','V7','V16', 'V14'], axis=1)\n",
    "print(id_merge.head())"
   ]
  },
  {
   "cell_type": "code",
   "execution_count": 5,
   "id": "aea70362-4257-4f85-a5c4-52d0e926dee2",
   "metadata": {},
   "outputs": [
    {
     "data": {
      "text/plain": [
       "(3663006, 16)"
      ]
     },
     "execution_count": 5,
     "metadata": {},
     "output_type": "execute_result"
    }
   ],
   "source": [
    "id_merge.shape"
   ]
  },
  {
   "cell_type": "code",
   "execution_count": 6,
   "id": "c7af9197-bd3a-4098-bb1c-875ef2736bf4",
   "metadata": {},
   "outputs": [
    {
     "data": {
      "text/html": [
       "<div>\n",
       "<style scoped>\n",
       "    .dataframe tbody tr th:only-of-type {\n",
       "        vertical-align: middle;\n",
       "    }\n",
       "\n",
       "    .dataframe tbody tr th {\n",
       "        vertical-align: top;\n",
       "    }\n",
       "\n",
       "    .dataframe thead th {\n",
       "        text-align: right;\n",
       "    }\n",
       "</style>\n",
       "<table border=\"1\" class=\"dataframe\">\n",
       "  <thead>\n",
       "    <tr style=\"text-align: right;\">\n",
       "      <th></th>\n",
       "      <th>V3</th>\n",
       "      <th>V4</th>\n",
       "      <th>V8</th>\n",
       "      <th>V9</th>\n",
       "      <th>V10</th>\n",
       "      <th>V11</th>\n",
       "      <th>V18</th>\n",
       "      <th>V12</th>\n",
       "      <th>V13</th>\n",
       "      <th>V15</th>\n",
       "      <th>V17</th>\n",
       "      <th>V19</th>\n",
       "      <th>V2</th>\n",
       "      <th>V5</th>\n",
       "      <th>V6</th>\n",
       "      <th>DrivingStyle</th>\n",
       "    </tr>\n",
       "  </thead>\n",
       "  <tbody>\n",
       "    <tr>\n",
       "      <th>0</th>\n",
       "      <td>1</td>\n",
       "      <td>81</td>\n",
       "      <td>87</td>\n",
       "      <td>16986</td>\n",
       "      <td>941</td>\n",
       "      <td>94.0</td>\n",
       "      <td>Dry</td>\n",
       "      <td>7.0</td>\n",
       "      <td>clear</td>\n",
       "      <td>95.0</td>\n",
       "      <td>1.0</td>\n",
       "      <td>daylight</td>\n",
       "      <td>1265</td>\n",
       "      <td>10243</td>\n",
       "      <td>2</td>\n",
       "      <td>2</td>\n",
       "    </tr>\n",
       "    <tr>\n",
       "      <th>1</th>\n",
       "      <td>1</td>\n",
       "      <td>81</td>\n",
       "      <td>87</td>\n",
       "      <td>16986</td>\n",
       "      <td>941</td>\n",
       "      <td>94.0</td>\n",
       "      <td>Dry</td>\n",
       "      <td>7.0</td>\n",
       "      <td>clear</td>\n",
       "      <td>95.0</td>\n",
       "      <td>0.0</td>\n",
       "      <td>daylight</td>\n",
       "      <td>1265</td>\n",
       "      <td>10243</td>\n",
       "      <td>2</td>\n",
       "      <td>2</td>\n",
       "    </tr>\n",
       "    <tr>\n",
       "      <th>2</th>\n",
       "      <td>1</td>\n",
       "      <td>81</td>\n",
       "      <td>87</td>\n",
       "      <td>16986</td>\n",
       "      <td>941</td>\n",
       "      <td>94.0</td>\n",
       "      <td>Dry</td>\n",
       "      <td>7.0</td>\n",
       "      <td>clear</td>\n",
       "      <td>95.0</td>\n",
       "      <td>0.0</td>\n",
       "      <td>daylight</td>\n",
       "      <td>1265</td>\n",
       "      <td>10243</td>\n",
       "      <td>2</td>\n",
       "      <td>2</td>\n",
       "    </tr>\n",
       "    <tr>\n",
       "      <th>3</th>\n",
       "      <td>1</td>\n",
       "      <td>81</td>\n",
       "      <td>87</td>\n",
       "      <td>16986</td>\n",
       "      <td>941</td>\n",
       "      <td>94.0</td>\n",
       "      <td>Dry</td>\n",
       "      <td>7.0</td>\n",
       "      <td>clear</td>\n",
       "      <td>95.0</td>\n",
       "      <td>0.0</td>\n",
       "      <td>daylight</td>\n",
       "      <td>1265</td>\n",
       "      <td>10243</td>\n",
       "      <td>2</td>\n",
       "      <td>2</td>\n",
       "    </tr>\n",
       "    <tr>\n",
       "      <th>4</th>\n",
       "      <td>1</td>\n",
       "      <td>81</td>\n",
       "      <td>87</td>\n",
       "      <td>16986</td>\n",
       "      <td>941</td>\n",
       "      <td>94.0</td>\n",
       "      <td>Dry</td>\n",
       "      <td>7.0</td>\n",
       "      <td>clear</td>\n",
       "      <td>95.0</td>\n",
       "      <td>0.0</td>\n",
       "      <td>daylight</td>\n",
       "      <td>1265</td>\n",
       "      <td>10243</td>\n",
       "      <td>2</td>\n",
       "      <td>2</td>\n",
       "    </tr>\n",
       "  </tbody>\n",
       "</table>\n",
       "</div>"
      ],
      "text/plain": [
       "   V3  V4  V8     V9  V10   V11  V18  V12    V13   V15  V17       V19    V2  \\\n",
       "0   1  81  87  16986  941  94.0  Dry  7.0  clear  95.0  1.0  daylight  1265   \n",
       "1   1  81  87  16986  941  94.0  Dry  7.0  clear  95.0  0.0  daylight  1265   \n",
       "2   1  81  87  16986  941  94.0  Dry  7.0  clear  95.0  0.0  daylight  1265   \n",
       "3   1  81  87  16986  941  94.0  Dry  7.0  clear  95.0  0.0  daylight  1265   \n",
       "4   1  81  87  16986  941  94.0  Dry  7.0  clear  95.0  0.0  daylight  1265   \n",
       "\n",
       "      V5  V6  DrivingStyle  \n",
       "0  10243   2             2  \n",
       "1  10243   2             2  \n",
       "2  10243   2             2  \n",
       "3  10243   2             2  \n",
       "4  10243   2             2  "
      ]
     },
     "execution_count": 6,
     "metadata": {},
     "output_type": "execute_result"
    }
   ],
   "source": [
    "id_merge.head()"
   ]
  },
  {
   "cell_type": "code",
   "execution_count": 7,
   "id": "f6783e75-946d-47d4-9839-e9dd280f8fd2",
   "metadata": {},
   "outputs": [
    {
     "data": {
      "text/plain": [
       "(2476630, 16)"
      ]
     },
     "execution_count": 7,
     "metadata": {},
     "output_type": "execute_result"
    }
   ],
   "source": [
    "# 3 is \"vague\", don't want that\n",
    "id_merge_filter = id_merge[id_merge.DrivingStyle != 3]\n",
    "id_merge_filter.shape"
   ]
  },
  {
   "cell_type": "code",
   "execution_count": 8,
   "id": "da25e01b-f129-4343-aeb9-c50ff1e6c00c",
   "metadata": {},
   "outputs": [
    {
     "data": {
      "text/html": [
       "<div>\n",
       "<style scoped>\n",
       "    .dataframe tbody tr th:only-of-type {\n",
       "        vertical-align: middle;\n",
       "    }\n",
       "\n",
       "    .dataframe tbody tr th {\n",
       "        vertical-align: top;\n",
       "    }\n",
       "\n",
       "    .dataframe thead th {\n",
       "        text-align: right;\n",
       "    }\n",
       "</style>\n",
       "<table border=\"1\" class=\"dataframe\">\n",
       "  <thead>\n",
       "    <tr style=\"text-align: right;\">\n",
       "      <th></th>\n",
       "      <th>V3</th>\n",
       "      <th>V4</th>\n",
       "      <th>V8</th>\n",
       "      <th>V9</th>\n",
       "      <th>V10</th>\n",
       "      <th>V11</th>\n",
       "      <th>V12</th>\n",
       "      <th>V15</th>\n",
       "      <th>V17</th>\n",
       "      <th>V2</th>\n",
       "      <th>V5</th>\n",
       "      <th>V6</th>\n",
       "      <th>DrivingStyle</th>\n",
       "    </tr>\n",
       "  </thead>\n",
       "  <tbody>\n",
       "    <tr>\n",
       "      <th>count</th>\n",
       "      <td>2.476630e+06</td>\n",
       "      <td>2.476630e+06</td>\n",
       "      <td>2.476630e+06</td>\n",
       "      <td>2.476630e+06</td>\n",
       "      <td>2.476630e+06</td>\n",
       "      <td>2.427772e+06</td>\n",
       "      <td>2.446678e+06</td>\n",
       "      <td>2.445607e+06</td>\n",
       "      <td>2.440554e+06</td>\n",
       "      <td>2.476630e+06</td>\n",
       "      <td>2.476630e+06</td>\n",
       "      <td>2.476630e+06</td>\n",
       "      <td>2.476630e+06</td>\n",
       "    </tr>\n",
       "    <tr>\n",
       "      <th>mean</th>\n",
       "      <td>1.504402e+00</td>\n",
       "      <td>8.254494e+01</td>\n",
       "      <td>8.257825e+01</td>\n",
       "      <td>4.020400e+03</td>\n",
       "      <td>7.176301e+02</td>\n",
       "      <td>6.157098e+01</td>\n",
       "      <td>4.648097e+00</td>\n",
       "      <td>5.939862e+01</td>\n",
       "      <td>3.979215e+00</td>\n",
       "      <td>7.395498e+02</td>\n",
       "      <td>4.330450e+03</td>\n",
       "      <td>2.504350e+00</td>\n",
       "      <td>1.823784e+00</td>\n",
       "    </tr>\n",
       "    <tr>\n",
       "      <th>std</th>\n",
       "      <td>4.999807e-01</td>\n",
       "      <td>9.063491e+00</td>\n",
       "      <td>9.072699e+00</td>\n",
       "      <td>6.385328e+03</td>\n",
       "      <td>4.148755e+02</td>\n",
       "      <td>1.074952e+02</td>\n",
       "      <td>3.114893e+00</td>\n",
       "      <td>1.845869e+01</td>\n",
       "      <td>3.005287e+00</td>\n",
       "      <td>4.092073e+02</td>\n",
       "      <td>6.578054e+03</td>\n",
       "      <td>1.200786e+00</td>\n",
       "      <td>3.810040e-01</td>\n",
       "    </tr>\n",
       "    <tr>\n",
       "      <th>min</th>\n",
       "      <td>1.000000e+00</td>\n",
       "      <td>8.000000e+00</td>\n",
       "      <td>0.000000e+00</td>\n",
       "      <td>3.000000e+00</td>\n",
       "      <td>1.020000e+02</td>\n",
       "      <td>1.000000e+00</td>\n",
       "      <td>-1.300000e+01</td>\n",
       "      <td>1.700000e+01</td>\n",
       "      <td>0.000000e+00</td>\n",
       "      <td>1.550000e+02</td>\n",
       "      <td>4.400000e+01</td>\n",
       "      <td>2.000000e+00</td>\n",
       "      <td>1.000000e+00</td>\n",
       "    </tr>\n",
       "    <tr>\n",
       "      <th>25%</th>\n",
       "      <td>1.000000e+00</td>\n",
       "      <td>7.800000e+01</td>\n",
       "      <td>7.800000e+01</td>\n",
       "      <td>1.480000e+03</td>\n",
       "      <td>5.250000e+02</td>\n",
       "      <td>3.000000e+00</td>\n",
       "      <td>2.000000e+00</td>\n",
       "      <td>4.500000e+01</td>\n",
       "      <td>1.000000e+00</td>\n",
       "      <td>5.450000e+02</td>\n",
       "      <td>1.557000e+03</td>\n",
       "      <td>2.000000e+00</td>\n",
       "      <td>2.000000e+00</td>\n",
       "    </tr>\n",
       "    <tr>\n",
       "      <th>50%</th>\n",
       "      <td>2.000000e+00</td>\n",
       "      <td>8.200000e+01</td>\n",
       "      <td>8.200000e+01</td>\n",
       "      <td>1.799000e+03</td>\n",
       "      <td>5.540000e+02</td>\n",
       "      <td>2.200000e+01</td>\n",
       "      <td>5.000000e+00</td>\n",
       "      <td>5.600000e+01</td>\n",
       "      <td>4.000000e+00</td>\n",
       "      <td>5.620000e+02</td>\n",
       "      <td>1.857000e+03</td>\n",
       "      <td>2.000000e+00</td>\n",
       "      <td>2.000000e+00</td>\n",
       "    </tr>\n",
       "    <tr>\n",
       "      <th>75%</th>\n",
       "      <td>2.000000e+00</td>\n",
       "      <td>8.700000e+01</td>\n",
       "      <td>8.700000e+01</td>\n",
       "      <td>2.297000e+03</td>\n",
       "      <td>5.990000e+02</td>\n",
       "      <td>7.600000e+01</td>\n",
       "      <td>7.000000e+00</td>\n",
       "      <td>7.500000e+01</td>\n",
       "      <td>7.000000e+00</td>\n",
       "      <td>5.970000e+02</td>\n",
       "      <td>2.408000e+03</td>\n",
       "      <td>2.000000e+00</td>\n",
       "      <td>2.000000e+00</td>\n",
       "    </tr>\n",
       "    <tr>\n",
       "      <th>max</th>\n",
       "      <td>2.000000e+00</td>\n",
       "      <td>1.610000e+02</td>\n",
       "      <td>1.610000e+02</td>\n",
       "      <td>6.954800e+04</td>\n",
       "      <td>2.981000e+03</td>\n",
       "      <td>1.797000e+03</td>\n",
       "      <td>2.400000e+01</td>\n",
       "      <td>9.700000e+01</td>\n",
       "      <td>1.700000e+01</td>\n",
       "      <td>2.335000e+03</td>\n",
       "      <td>5.723000e+04</td>\n",
       "      <td>9.000000e+00</td>\n",
       "      <td>2.000000e+00</td>\n",
       "    </tr>\n",
       "  </tbody>\n",
       "</table>\n",
       "</div>"
      ],
      "text/plain": [
       "                 V3            V4            V8            V9           V10  \\\n",
       "count  2.476630e+06  2.476630e+06  2.476630e+06  2.476630e+06  2.476630e+06   \n",
       "mean   1.504402e+00  8.254494e+01  8.257825e+01  4.020400e+03  7.176301e+02   \n",
       "std    4.999807e-01  9.063491e+00  9.072699e+00  6.385328e+03  4.148755e+02   \n",
       "min    1.000000e+00  8.000000e+00  0.000000e+00  3.000000e+00  1.020000e+02   \n",
       "25%    1.000000e+00  7.800000e+01  7.800000e+01  1.480000e+03  5.250000e+02   \n",
       "50%    2.000000e+00  8.200000e+01  8.200000e+01  1.799000e+03  5.540000e+02   \n",
       "75%    2.000000e+00  8.700000e+01  8.700000e+01  2.297000e+03  5.990000e+02   \n",
       "max    2.000000e+00  1.610000e+02  1.610000e+02  6.954800e+04  2.981000e+03   \n",
       "\n",
       "                V11           V12           V15           V17            V2  \\\n",
       "count  2.427772e+06  2.446678e+06  2.445607e+06  2.440554e+06  2.476630e+06   \n",
       "mean   6.157098e+01  4.648097e+00  5.939862e+01  3.979215e+00  7.395498e+02   \n",
       "std    1.074952e+02  3.114893e+00  1.845869e+01  3.005287e+00  4.092073e+02   \n",
       "min    1.000000e+00 -1.300000e+01  1.700000e+01  0.000000e+00  1.550000e+02   \n",
       "25%    3.000000e+00  2.000000e+00  4.500000e+01  1.000000e+00  5.450000e+02   \n",
       "50%    2.200000e+01  5.000000e+00  5.600000e+01  4.000000e+00  5.620000e+02   \n",
       "75%    7.600000e+01  7.000000e+00  7.500000e+01  7.000000e+00  5.970000e+02   \n",
       "max    1.797000e+03  2.400000e+01  9.700000e+01  1.700000e+01  2.335000e+03   \n",
       "\n",
       "                 V5            V6  DrivingStyle  \n",
       "count  2.476630e+06  2.476630e+06  2.476630e+06  \n",
       "mean   4.330450e+03  2.504350e+00  1.823784e+00  \n",
       "std    6.578054e+03  1.200786e+00  3.810040e-01  \n",
       "min    4.400000e+01  2.000000e+00  1.000000e+00  \n",
       "25%    1.557000e+03  2.000000e+00  2.000000e+00  \n",
       "50%    1.857000e+03  2.000000e+00  2.000000e+00  \n",
       "75%    2.408000e+03  2.000000e+00  2.000000e+00  \n",
       "max    5.723000e+04  9.000000e+00  2.000000e+00  "
      ]
     },
     "execution_count": 8,
     "metadata": {},
     "output_type": "execute_result"
    }
   ],
   "source": [
    "id_merge_filter.describe()"
   ]
  },
  {
   "cell_type": "code",
   "execution_count": 9,
   "id": "15cbd2ab-da35-4879-95bd-5ef7b5fd7aca",
   "metadata": {},
   "outputs": [
    {
     "data": {
      "text/html": [
       "<div>\n",
       "<style scoped>\n",
       "    .dataframe tbody tr th:only-of-type {\n",
       "        vertical-align: middle;\n",
       "    }\n",
       "\n",
       "    .dataframe tbody tr th {\n",
       "        vertical-align: top;\n",
       "    }\n",
       "\n",
       "    .dataframe thead th {\n",
       "        text-align: right;\n",
       "    }\n",
       "</style>\n",
       "<table border=\"1\" class=\"dataframe\">\n",
       "  <thead>\n",
       "    <tr style=\"text-align: right;\">\n",
       "      <th></th>\n",
       "      <th>V18</th>\n",
       "      <th>V13</th>\n",
       "      <th>V19</th>\n",
       "    </tr>\n",
       "  </thead>\n",
       "  <tbody>\n",
       "    <tr>\n",
       "      <th>count</th>\n",
       "      <td>2476630</td>\n",
       "      <td>2476630</td>\n",
       "      <td>2476630</td>\n",
       "    </tr>\n",
       "    <tr>\n",
       "      <th>unique</th>\n",
       "      <td>4</td>\n",
       "      <td>3</td>\n",
       "      <td>3</td>\n",
       "    </tr>\n",
       "    <tr>\n",
       "      <th>top</th>\n",
       "      <td>Dry</td>\n",
       "      <td>clear</td>\n",
       "      <td>night</td>\n",
       "    </tr>\n",
       "    <tr>\n",
       "      <th>freq</th>\n",
       "      <td>1714905</td>\n",
       "      <td>2292741</td>\n",
       "      <td>1265919</td>\n",
       "    </tr>\n",
       "  </tbody>\n",
       "</table>\n",
       "</div>"
      ],
      "text/plain": [
       "            V18      V13      V19\n",
       "count   2476630  2476630  2476630\n",
       "unique        4        3        3\n",
       "top         Dry    clear    night\n",
       "freq    1714905  2292741  1265919"
      ]
     },
     "execution_count": 9,
     "metadata": {},
     "output_type": "execute_result"
    }
   ],
   "source": [
    "id_merge_filter.describe(include = 'object')"
   ]
  },
  {
   "cell_type": "code",
   "execution_count": 10,
   "id": "b1653884-6fb9-4dc3-9524-2073d3f001c1",
   "metadata": {},
   "outputs": [
    {
     "name": "stderr",
     "output_type": "stream",
     "text": [
      "/Users/jacob/opt/anaconda3/lib/python3.9/site-packages/scipy/__init__.py:146: UserWarning: A NumPy version >=1.16.5 and <1.23.0 is required for this version of SciPy (detected version 1.23.5\n",
      "  warnings.warn(f\"A NumPy version >={np_minversion} and <{np_maxversion}\"\n"
     ]
    }
   ],
   "source": [
    "# extract desired feature\n",
    "from sklearn.model_selection import train_test_split\n",
    "fd_train, fd_test = train_test_split(id_merge_filter, test_size=0.3)\n",
    "\n",
    "# between 1 and 2, so subtract by 1. \n",
    "targets_train = fd_train[\"DrivingStyle\"].tolist()\n",
    "targets_train = list(map(lambda x: x - 1, targets_train))\n",
    "targets_test = fd_test[\"DrivingStyle\"].tolist()\n",
    "targets_test = list(map(lambda x: x - 1, targets_test))\n",
    "\n",
    "# don't leave result feature in your training data\n",
    "fd_train = fd_train.drop(\"DrivingStyle\",axis=1)\n",
    "fd_test = fd_test.drop(\"DrivingStyle\",axis=1)"
   ]
  },
  {
   "cell_type": "markdown",
   "id": "0b1eef15-7f1b-4d48-ad60-373fd8cbb3d7",
   "metadata": {},
   "source": [
    "## Ship this pipeline:"
   ]
  },
  {
   "cell_type": "code",
   "execution_count": 11,
   "id": "db895cba-c1f7-4548-ba6e-4edd51c18512",
   "metadata": {},
   "outputs": [],
   "source": [
    "from sklearn.impute import SimpleImputer\n",
    "from sklearn.compose import ColumnTransformer\n",
    "from sklearn.pipeline import Pipeline\n",
    "from sklearn.preprocessing import StandardScaler\n",
    "from sklearn.preprocessing import OneHotEncoder\n",
    "from sklearn.base import BaseEstimator, TransformerMixin\n",
    "from sklearn.linear_model import LogisticRegression\n",
    "\n",
    "\n",
    "num_pipeline = Pipeline([\n",
    "        ('imputer', SimpleImputer(strategy=\"median\")),\n",
    "        ('std_scaler', StandardScaler()),\n",
    "    ])\n",
    "\n",
    "# Transform categorical/numerical columns using different approaches:\n",
    "categorical_features = [\"V13\", \"V18\", \"V19\"]\n",
    "numerical_features = [x for x in fd_train.columns if x not in categorical_features]\n",
    "\n",
    "full_pipeline = Pipeline([('ct', ColumnTransformer([\n",
    "        (\"num\", num_pipeline, numerical_features),\n",
    "        (\"cat\", OneHotEncoder(), categorical_features),\n",
    "    ])),\n",
    "                ('lr', LogisticRegression())])\n",
    "\n",
    "no_fit_pipeline = ColumnTransformer([\n",
    "        (\"num\", num_pipeline, numerical_features),\n",
    "        (\"cat\", OneHotEncoder(), categorical_features),\n",
    "    ])\n",
    "#fd_test_tr = full_pipeline.fit_transform(fd_test)\n"
   ]
  },
  {
   "cell_type": "code",
   "execution_count": 12,
   "id": "c3383b77-a6ed-4291-af21-6e5cc54fc3ad",
   "metadata": {},
   "outputs": [
    {
     "name": "stdout",
     "output_type": "stream",
     "text": [
      "<class 'sklearn.pipeline.Pipeline'>\n"
     ]
    }
   ],
   "source": [
    "fd_train_tr_fit = full_pipeline.fit(fd_train, targets_train)\n",
    "print(type(fd_train_tr_fit))"
   ]
  },
  {
   "cell_type": "code",
   "execution_count": 13,
   "id": "89eea15c-cde2-456d-bd85-de57e0b597ac",
   "metadata": {},
   "outputs": [
    {
     "name": "stdout",
     "output_type": "stream",
     "text": [
      "0.837113335459879\n"
     ]
    }
   ],
   "source": [
    "print(fd_train_tr_fit.score(fd_train, targets_train))"
   ]
  },
  {
   "cell_type": "code",
   "execution_count": 14,
   "id": "904ca7ee-89be-45c3-9d39-4993a3e44e0e",
   "metadata": {},
   "outputs": [
    {
     "name": "stdout",
     "output_type": "stream",
     "text": [
      "0.8368629952798763\n"
     ]
    }
   ],
   "source": [
    "print(fd_train_tr_fit.score(fd_test, targets_test))"
   ]
  },
  {
   "cell_type": "markdown",
   "id": "ec5c6712-4b66-4cf4-ba84-5deab0caaed2",
   "metadata": {},
   "source": [
    "### Pickle Time"
   ]
  },
  {
   "cell_type": "code",
   "execution_count": 15,
   "id": "687353bd-6554-4b6f-92bf-52d0e9236296",
   "metadata": {},
   "outputs": [],
   "source": [
    "import joblib"
   ]
  },
  {
   "cell_type": "code",
   "execution_count": 16,
   "id": "1acf0ab8-6828-4ccd-886f-15e130b9b21b",
   "metadata": {},
   "outputs": [
    {
     "data": {
      "text/plain": [
       "['fd_prod_tr.pkl']"
      ]
     },
     "execution_count": 16,
     "metadata": {},
     "output_type": "execute_result"
    }
   ],
   "source": [
    "joblib.dump(fd_train_tr_fit, 'fd_prod_tr.pkl')"
   ]
  },
  {
   "cell_type": "code",
   "execution_count": 17,
   "id": "34a6c61c-d181-48a6-80c5-b20930da4ec8",
   "metadata": {},
   "outputs": [],
   "source": [
    "cls_import = joblib.load('fd_prod_tr.pkl')"
   ]
  },
  {
   "cell_type": "code",
   "execution_count": 18,
   "id": "ab3d8958-10f6-4c36-9f81-b35579cb0544",
   "metadata": {},
   "outputs": [
    {
     "data": {
      "text/html": [
       "<div>\n",
       "<style scoped>\n",
       "    .dataframe tbody tr th:only-of-type {\n",
       "        vertical-align: middle;\n",
       "    }\n",
       "\n",
       "    .dataframe tbody tr th {\n",
       "        vertical-align: top;\n",
       "    }\n",
       "\n",
       "    .dataframe thead th {\n",
       "        text-align: right;\n",
       "    }\n",
       "</style>\n",
       "<table border=\"1\" class=\"dataframe\">\n",
       "  <thead>\n",
       "    <tr style=\"text-align: right;\">\n",
       "      <th></th>\n",
       "      <th>V3</th>\n",
       "      <th>V4</th>\n",
       "      <th>V8</th>\n",
       "      <th>V9</th>\n",
       "      <th>V10</th>\n",
       "      <th>V11</th>\n",
       "      <th>V18</th>\n",
       "      <th>V12</th>\n",
       "      <th>V13</th>\n",
       "      <th>V15</th>\n",
       "      <th>V17</th>\n",
       "      <th>V19</th>\n",
       "      <th>V2</th>\n",
       "      <th>V5</th>\n",
       "      <th>V6</th>\n",
       "    </tr>\n",
       "  </thead>\n",
       "  <tbody>\n",
       "    <tr>\n",
       "      <th>1735759</th>\n",
       "      <td>2</td>\n",
       "      <td>92</td>\n",
       "      <td>84</td>\n",
       "      <td>2122</td>\n",
       "      <td>554</td>\n",
       "      <td>59.0</td>\n",
       "      <td>Wet</td>\n",
       "      <td>6.0</td>\n",
       "      <td>clear</td>\n",
       "      <td>92.0</td>\n",
       "      <td>0.0</td>\n",
       "      <td>night</td>\n",
       "      <td>569</td>\n",
       "      <td>1709</td>\n",
       "      <td>2</td>\n",
       "    </tr>\n",
       "    <tr>\n",
       "      <th>2685492</th>\n",
       "      <td>1</td>\n",
       "      <td>81</td>\n",
       "      <td>80</td>\n",
       "      <td>1482</td>\n",
       "      <td>582</td>\n",
       "      <td>4.0</td>\n",
       "      <td>Dry</td>\n",
       "      <td>8.0</td>\n",
       "      <td>clear</td>\n",
       "      <td>55.0</td>\n",
       "      <td>7.0</td>\n",
       "      <td>night</td>\n",
       "      <td>576</td>\n",
       "      <td>2680</td>\n",
       "      <td>2</td>\n",
       "    </tr>\n",
       "    <tr>\n",
       "      <th>1474313</th>\n",
       "      <td>2</td>\n",
       "      <td>83</td>\n",
       "      <td>87</td>\n",
       "      <td>1550</td>\n",
       "      <td>540</td>\n",
       "      <td>1.0</td>\n",
       "      <td>Dry</td>\n",
       "      <td>8.0</td>\n",
       "      <td>clear</td>\n",
       "      <td>59.0</td>\n",
       "      <td>4.0</td>\n",
       "      <td>daylight</td>\n",
       "      <td>550</td>\n",
       "      <td>1467</td>\n",
       "      <td>2</td>\n",
       "    </tr>\n",
       "    <tr>\n",
       "      <th>3468295</th>\n",
       "      <td>2</td>\n",
       "      <td>99</td>\n",
       "      <td>91</td>\n",
       "      <td>1504</td>\n",
       "      <td>580</td>\n",
       "      <td>263.0</td>\n",
       "      <td>Dry</td>\n",
       "      <td>9.0</td>\n",
       "      <td>clear</td>\n",
       "      <td>43.0</td>\n",
       "      <td>4.0</td>\n",
       "      <td>daylight</td>\n",
       "      <td>551</td>\n",
       "      <td>1842</td>\n",
       "      <td>2</td>\n",
       "    </tr>\n",
       "    <tr>\n",
       "      <th>2695879</th>\n",
       "      <td>1</td>\n",
       "      <td>80</td>\n",
       "      <td>78</td>\n",
       "      <td>1662</td>\n",
       "      <td>571</td>\n",
       "      <td>12.0</td>\n",
       "      <td>Dry</td>\n",
       "      <td>8.0</td>\n",
       "      <td>clear</td>\n",
       "      <td>55.0</td>\n",
       "      <td>9.0</td>\n",
       "      <td>night</td>\n",
       "      <td>571</td>\n",
       "      <td>2484</td>\n",
       "      <td>2</td>\n",
       "    </tr>\n",
       "  </tbody>\n",
       "</table>\n",
       "</div>"
      ],
      "text/plain": [
       "         V3  V4  V8    V9  V10    V11  V18  V12    V13   V15  V17       V19  \\\n",
       "1735759   2  92  84  2122  554   59.0  Wet  6.0  clear  92.0  0.0     night   \n",
       "2685492   1  81  80  1482  582    4.0  Dry  8.0  clear  55.0  7.0     night   \n",
       "1474313   2  83  87  1550  540    1.0  Dry  8.0  clear  59.0  4.0  daylight   \n",
       "3468295   2  99  91  1504  580  263.0  Dry  9.0  clear  43.0  4.0  daylight   \n",
       "2695879   1  80  78  1662  571   12.0  Dry  8.0  clear  55.0  9.0     night   \n",
       "\n",
       "          V2    V5  V6  \n",
       "1735759  569  1709   2  \n",
       "2685492  576  2680   2  \n",
       "1474313  550  1467   2  \n",
       "3468295  551  1842   2  \n",
       "2695879  571  2484   2  "
      ]
     },
     "execution_count": 18,
     "metadata": {},
     "output_type": "execute_result"
    }
   ],
   "source": [
    "fd_test.head()"
   ]
  },
  {
   "cell_type": "code",
   "execution_count": 19,
   "id": "cd309b56-eaaa-4c07-ae64-0f45acc46cb6",
   "metadata": {},
   "outputs": [
    {
     "name": "stdout",
     "output_type": "stream",
     "text": [
      "0.8368629952798763\n"
     ]
    },
    {
     "data": {
      "text/plain": [
       "\"sample_dict = {'V3': [1], 'V4': [81], 'V8'....}\\nconvert sample_dict to pandas dataframe\\ncls_import.predict(pandas dataframe)\""
      ]
     },
     "execution_count": 19,
     "metadata": {},
     "output_type": "execute_result"
    }
   ],
   "source": [
    "print(cls_import.score(fd_test, targets_test))\n",
    "\"\"\"sample_dict = {'V3': [1], 'V4': [81], 'V8'....}\n",
    "convert sample_dict to pandas dataframe\n",
    "cls_import.predict(pandas dataframe)\"\"\""
   ]
  },
  {
   "cell_type": "markdown",
   "id": "36ebc7a6-a4cb-4dfc-b394-adb9b967dd3b",
   "metadata": {},
   "source": [
    "## Trying different models"
   ]
  },
  {
   "cell_type": "code",
   "execution_count": 20,
   "id": "031c3870-bb3e-41e0-8ba5-f56d1dbea82a",
   "metadata": {},
   "outputs": [],
   "source": [
    "fd_train_tr = no_fit_pipeline.fit_transform(fd_train)\n",
    "fd_test_tr = no_fit_pipeline.fit_transform(fd_test)"
   ]
  },
  {
   "cell_type": "code",
   "execution_count": 21,
   "id": "3f68efca-cd1a-413c-bdc6-be89ce8a781a",
   "metadata": {},
   "outputs": [
    {
     "name": "stdout",
     "output_type": "stream",
     "text": [
      "Predictions: [0.6440258  0.87410736 0.9031496  0.67415619 0.87784195 0.87708759\n",
      " 0.8844862  0.89343548 0.8678894  0.82786083 0.98124123 0.68252563\n",
      " 0.89151049 1.00467348 0.71036768 0.70051527 0.8873353  0.8868866\n",
      " 0.90211868 0.66916943 0.87785721 1.00636721 0.66813993 0.49820757\n",
      " 1.00558329 0.9904232  0.65623283 0.88765383 0.81796837 0.80378675\n",
      " 0.59034348 1.00043821 0.7911005  0.99697304 1.0107584  0.88649321\n",
      " 0.76544285 0.41276598 0.32141829 0.85874796 0.89473963 1.01078749\n",
      " 0.81511021 0.90076208 0.99160051 0.87435818 0.91931677 0.98988104\n",
      " 0.80388117 0.89805984]\n",
      "Actual labels: [0, 1, 1, 0, 1, 1, 1, 1, 1, 1, 1, 1, 1, 1, 0, 1, 1, 1, 1, 1, 1, 1, 1, 0, 1, 1, 0, 1, 1, 1, 0, 1, 1, 1, 1, 1, 1, 0, 1, 1, 0, 1, 1, 1, 1, 1, 0, 1, 1, 1]\n"
     ]
    }
   ],
   "source": [
    "from sklearn.linear_model import LinearRegression\n",
    "\n",
    "# train a linear regression model\n",
    "lin_reg = LinearRegression()\n",
    "lin_reg.fit(fd_train_tr, targets_train)\n",
    "\n",
    "# choose a few training examples and make predictions on them\n",
    "features = fd_train_tr[:50, :]\n",
    "targets = targets_train[:50]\n",
    "predictions = lin_reg.predict(features)\n",
    "\n",
    "print(\"Predictions:\", predictions)\n",
    "print(\"Actual labels:\", list(targets))"
   ]
  },
  {
   "cell_type": "markdown",
   "id": "57cf2a87-7054-4cd4-ba7a-0889a603fd43",
   "metadata": {},
   "source": [
    "Attribution for pytorch lin reg: https://machinelearningmastery.com/building-a-logistic-regression-classifier-in-pytorch/"
   ]
  },
  {
   "cell_type": "code",
   "execution_count": 22,
   "id": "f2049923-71c7-408d-97ee-b41295f6c3aa",
   "metadata": {},
   "outputs": [
    {
     "name": "stdout",
     "output_type": "stream",
     "text": [
      "Predictions: [0.6440258  0.87410736 0.9031496  0.67415619 0.87784195 0.87708759\n",
      " 0.8844862  0.89343548 0.8678894  0.82786083 0.98124123 0.68252563\n",
      " 0.89151049 1.00467348 0.71036768 0.70051527 0.8873353  0.8868866\n",
      " 0.90211868 0.66916943 0.87785721 1.00636721 0.66813993 0.49820757\n",
      " 1.00558329 0.9904232  0.65623283 0.88765383 0.81796837 0.80378675\n",
      " 0.59034348 1.00043821 0.7911005  0.99697304 1.0107584  0.88649321\n",
      " 0.76544285 0.41276598 0.32141829 0.85874796 0.89473963 1.01078749\n",
      " 0.81511021 0.90076208 0.99160051 0.87435818 0.91931677 0.98988104\n",
      " 0.80388117 0.89805984]\n",
      "Actual labels: [0, 1, 1, 0, 1, 1, 1, 1, 1, 1, 1, 1, 1, 1, 0, 1, 1, 1, 1, 1, 1, 1, 1, 0, 1, 1, 0, 1, 1, 1, 0, 1, 1, 1, 1, 1, 1, 0, 1, 1, 0, 1, 1, 1, 1, 1, 0, 1, 1, 1]\n"
     ]
    }
   ],
   "source": [
    "from sklearn.linear_model import LogisticRegression\n",
    "\n",
    "# train a linear regression model\n",
    "log_reg = LogisticRegression()\n",
    "log_reg.fit(fd_train_tr, targets_train)\n",
    "\n",
    "# choose a few training examples and make predictions on them\n",
    "features = fd_train_tr[:50, :]\n",
    "targets = targets_train[:50]\n",
    "predictions = lin_reg.predict(features)\n",
    "\n",
    "print(\"Predictions:\", predictions)\n",
    "print(\"Actual labels:\", list(targets))"
   ]
  },
  {
   "cell_type": "code",
   "execution_count": 23,
   "id": "c9b7b5a6-065b-4eea-b93f-ea705b43af0b",
   "metadata": {},
   "outputs": [
    {
     "name": "stdout",
     "output_type": "stream",
     "text": [
      "Root Mean Squared Error: 0.40399218325014813\n"
     ]
    }
   ],
   "source": [
    "from sklearn.metrics import mean_squared_error\n",
    "\n",
    "# Make predictions on transformed data set\n",
    "predictions_test = log_reg.predict(fd_test_tr)\n",
    "\n",
    "# Evaluate predictions\n",
    "rmse = mean_squared_error(targets_test, predictions_test, squared=False)\n",
    "print(\"Root Mean Squared Error:\", rmse)\n",
    "\n"
   ]
  },
  {
   "cell_type": "code",
   "execution_count": 24,
   "id": "e441ca7d-63cf-4ed0-8d6e-a03e8776e0a0",
   "metadata": {},
   "outputs": [
    {
     "name": "stdout",
     "output_type": "stream",
     "text": [
      "Sample predictions: [1 1 1 1 1]\n",
      "Sample labels: [1, 1, 1, 1, 1]\n",
      "Right: 621726\n",
      "Wrong: 121263\n"
     ]
    }
   ],
   "source": [
    "# Show a few predictions and corresponding labels\n",
    "print(\"Sample predictions:\", predictions_test[:5])\n",
    "print(\"Sample labels:\", targets_test[:5])\n",
    "\n",
    "correct = 0\n",
    "wrong = 0\n",
    "for i,p in enumerate(predictions_test):\n",
    "    if(p == targets_test[i]):\n",
    "        correct += 1\n",
    "    else:\n",
    "        wrong += 1\n",
    "print(\"Right:\", correct)\n",
    "print(\"Wrong:\", wrong)"
   ]
  },
  {
   "cell_type": "code",
   "execution_count": null,
   "id": "62d08630-dba6-4f1b-a79d-20c5d934ffc3",
   "metadata": {},
   "outputs": [],
   "source": []
  },
  {
   "cell_type": "markdown",
   "id": "b2015050-db4e-4254-b598-aeb1bc987bed",
   "metadata": {},
   "source": [
    "# TRASH - DO NOT RUN OR USE"
   ]
  },
  {
   "cell_type": "code",
   "execution_count": 25,
   "id": "9ead4b12-a27b-4c5d-9bfe-bfee88e1965e",
   "metadata": {},
   "outputs": [],
   "source": [
    "def np2d_to_npl(arr2):\n",
    "    result = []\n",
    "    for i in range(0,arr2.shape[0]):\n",
    "        result.append(arr2[i])\n",
    "    return result\n",
    "\n",
    "def tl_to_ttup(tl, rl):\n",
    "    result = []\n",
    "    for i in range(0, tl.shape[0]):\n",
    "        result.append((tl[i],rl[i]))\n",
    "    return result"
   ]
  },
  {
   "cell_type": "code",
   "execution_count": 26,
   "id": "cbfa2e57-431b-469d-adbb-ed653c233348",
   "metadata": {},
   "outputs": [
    {
     "data": {
      "text/plain": [
       "'\\nimport torch\\nfrom torch.utils.data import TensorDataset, DataLoader\\ntensor_train = torch.Tensor(np2d_to_npl(fd_train_tr)) # transform to torch tensor\\ntensor_test = torch.Tensor(np2d_to_npl(fd_test_tr))\\n'"
      ]
     },
     "execution_count": 26,
     "metadata": {},
     "output_type": "execute_result"
    }
   ],
   "source": [
    "\"\"\"\n",
    "import torch\n",
    "from torch.utils.data import TensorDataset, DataLoader\n",
    "tensor_train = torch.Tensor(np2d_to_npl(fd_train_tr)) # transform to torch tensor\n",
    "tensor_test = torch.Tensor(np2d_to_npl(fd_test_tr))\n",
    "\"\"\""
   ]
  },
  {
   "cell_type": "code",
   "execution_count": 27,
   "id": "bbcb8825-f1c1-4122-a642-05370336ade5",
   "metadata": {},
   "outputs": [
    {
     "data": {
      "text/plain": [
       "'\\ntuple_train = tl_to_ttup(tensor_train, targets_train)\\ntrain_dl = DataLoader(tuple_train, shuffle=True)\\n\\ntuple_test = tl_to_ttup(tensor_test, targets_test)\\ntest_dl = DataLoader(tuple_test, shuffle=False)\\n'"
      ]
     },
     "execution_count": 27,
     "metadata": {},
     "output_type": "execute_result"
    }
   ],
   "source": [
    "\"\"\"\n",
    "tuple_train = tl_to_ttup(tensor_train, targets_train)\n",
    "train_dl = DataLoader(tuple_train, shuffle=True)\n",
    "\n",
    "tuple_test = tl_to_ttup(tensor_test, targets_test)\n",
    "test_dl = DataLoader(tuple_test, shuffle=False)\n",
    "\"\"\""
   ]
  },
  {
   "cell_type": "code",
   "execution_count": 28,
   "id": "1d99283e-3a1b-4f5a-8826-86ffe254e957",
   "metadata": {},
   "outputs": [
    {
     "data": {
      "text/plain": [
       "'\\nclass LogisticRegression(torch.nn.Module):\\n    def __init__(self, n_inputs, n_outputs):\\n        super().__init__()\\n        self.linear = torch.nn.Linear(n_inputs, n_outputs)\\n    \\n    def forward(self, x):\\n        y_pred = torch.sigmoid(self.linear(x))\\n        return y_pred\\n'"
      ]
     },
     "execution_count": 28,
     "metadata": {},
     "output_type": "execute_result"
    }
   ],
   "source": [
    "\"\"\"\n",
    "class LogisticRegression(torch.nn.Module):\n",
    "    def __init__(self, n_inputs, n_outputs):\n",
    "        super().__init__()\n",
    "        self.linear = torch.nn.Linear(n_inputs, n_outputs)\n",
    "    \n",
    "    def forward(self, x):\n",
    "        y_pred = torch.sigmoid(self.linear(x))\n",
    "        return y_pred\n",
    "\"\"\""
   ]
  },
  {
   "cell_type": "code",
   "execution_count": 29,
   "id": "20ec204b-5e45-4084-9230-507216bd79c5",
   "metadata": {},
   "outputs": [
    {
     "data": {
      "text/plain": [
       "\"\\n# 22 inputs, 2 outputs\\nn_inputs = tuple_train[0][0].shape[0]\\nn_outputs = 2\\n\\n\\nlog_regr = LogisticRegression(n_inputs, n_outputs)\\nprint('Finished cell 16')\\n\""
      ]
     },
     "execution_count": 29,
     "metadata": {},
     "output_type": "execute_result"
    }
   ],
   "source": [
    "\"\"\"\n",
    "# 22 inputs, 2 outputs\n",
    "n_inputs = tuple_train[0][0].shape[0]\n",
    "n_outputs = 2\n",
    "\n",
    "\n",
    "log_regr = LogisticRegression(n_inputs, n_outputs)\n",
    "print('Finished cell 16')\n",
    "\"\"\""
   ]
  },
  {
   "cell_type": "code",
   "execution_count": 30,
   "id": "b17bfdaa-cb90-4b50-acce-3d7657d0fa17",
   "metadata": {},
   "outputs": [
    {
     "data": {
      "text/plain": [
       "'\\nprint(\"sanity\")\\n#import matplotlib.pyplot as plt\\n# Defining optimizer\\noptimizer = torch.optim.SGD(log_regr.parameters(), lr=0.001)\\n# Defining Cross-Entropy Loss\\ncriterion = torch.nn.CrossEntropyLoss()\\n\\nepochs = 50\\nLoss = []\\nacc = []\\n'"
      ]
     },
     "execution_count": 30,
     "metadata": {},
     "output_type": "execute_result"
    }
   ],
   "source": [
    "\"\"\"\n",
    "print(\"sanity\")\n",
    "#import matplotlib.pyplot as plt\n",
    "# Defining optimizer\n",
    "optimizer = torch.optim.SGD(log_regr.parameters(), lr=0.001)\n",
    "# Defining Cross-Entropy Loss\n",
    "criterion = torch.nn.CrossEntropyLoss()\n",
    "\n",
    "epochs = 50\n",
    "Loss = []\n",
    "acc = []\n",
    "\"\"\""
   ]
  },
  {
   "cell_type": "code",
   "execution_count": 31,
   "id": "bf4b935a-9a69-46e5-9a11-b77b712ac9ff",
   "metadata": {},
   "outputs": [
    {
     "data": {
      "text/plain": [
       "'\\nprint(\"sanity 2\")\\nfor epoch in range(epochs):\\n    print(\\'Entered Epoch\\')\\n    for i, (feature, label) in enumerate(train_dl):\\n        print(i, feature, label)\\n        print(\\'Entered feature and label for training\\')\\n        optimizer.zero_grad()\\n        outputs = log_regr(feature.view(-1, n_inputs))\\n        loss = criterion(outputs, label)\\n        print(\\'Before backwards step\\')\\n        \\n        loss.backward()\\n        optimizer.step()\\n    Loss.append(loss.item())\\n    correct = 0\\n    \\n    for feature, label in test_dl:\\n        print(\\'Entered feature and label for testing\\')\\n        outputs = log_regr(feature.view(-1, n_inputs))\\n        _, predicted = torch.max(outputs.data, 1)\\n        correct += (predicted == label).sum()\\n    accuracy = 100 * (correct.item()) / len(tuple_test)\\n    acc.append(accuracy)\\n    print(\\'Epoch: {}. Loss: {} Accuracy: {}\\'.format(epoch, loss.item(), accuracy))\\n    '"
      ]
     },
     "execution_count": 31,
     "metadata": {},
     "output_type": "execute_result"
    }
   ],
   "source": [
    "\"\"\"\n",
    "print(\"sanity 2\")\n",
    "for epoch in range(epochs):\n",
    "    print('Entered Epoch')\n",
    "    for i, (feature, label) in enumerate(train_dl):\n",
    "        print(i, feature, label)\n",
    "        print('Entered feature and label for training')\n",
    "        optimizer.zero_grad()\n",
    "        outputs = log_regr(feature.view(-1, n_inputs))\n",
    "        loss = criterion(outputs, label)\n",
    "        print('Before backwards step')\n",
    "        \n",
    "        loss.backward()\n",
    "        optimizer.step()\n",
    "    Loss.append(loss.item())\n",
    "    correct = 0\n",
    "    \n",
    "    for feature, label in test_dl:\n",
    "        print('Entered feature and label for testing')\n",
    "        outputs = log_regr(feature.view(-1, n_inputs))\n",
    "        _, predicted = torch.max(outputs.data, 1)\n",
    "        correct += (predicted == label).sum()\n",
    "    accuracy = 100 * (correct.item()) / len(tuple_test)\n",
    "    acc.append(accuracy)\n",
    "    print('Epoch: {}. Loss: {} Accuracy: {}'.format(epoch, loss.item(), accuracy))\n",
    "    \"\"\""
   ]
  },
  {
   "cell_type": "code",
   "execution_count": 32,
   "id": "c4c8d87d-3665-4d3c-a69c-0e0dde842d0d",
   "metadata": {},
   "outputs": [
    {
     "data": {
      "text/plain": [
       "'\\ntuple_train[0][0].shape\\ntuple_test[0][0].shape\\n'"
      ]
     },
     "execution_count": 32,
     "metadata": {},
     "output_type": "execute_result"
    }
   ],
   "source": [
    "\"\"\"\n",
    "tuple_train[0][0].shape\n",
    "tuple_test[0][0].shape\n",
    "\"\"\""
   ]
  },
  {
   "cell_type": "code",
   "execution_count": 33,
   "id": "347676a0-1da1-41dc-87cc-98f0798c1da3",
   "metadata": {},
   "outputs": [
    {
     "data": {
      "text/plain": [
       "\"plt.plot(Loss)\\nplt.xlabel('Number of Epochs')\\nplt.ylabel('Total Loss')\\nplt.title('Loss')\\nplt.show()\\n\\nplt.plot(acc)\\nplt.xlabel('Number of Epochs')\\nplt.ylabel('Total Accuracy')\\nplt.title('Accuracy')\\nplt.show()\""
      ]
     },
     "execution_count": 33,
     "metadata": {},
     "output_type": "execute_result"
    }
   ],
   "source": [
    "\"\"\"plt.plot(Loss)\n",
    "plt.xlabel('Number of Epochs')\n",
    "plt.ylabel('Total Loss')\n",
    "plt.title('Loss')\n",
    "plt.show()\n",
    "\n",
    "plt.plot(acc)\n",
    "plt.xlabel('Number of Epochs')\n",
    "plt.ylabel('Total Accuracy')\n",
    "plt.title('Accuracy')\n",
    "plt.show()\"\"\""
   ]
  }
 ],
 "metadata": {
  "kernelspec": {
   "display_name": "Python 3 (ipykernel)",
   "language": "python",
   "name": "python3"
  },
  "language_info": {
   "codemirror_mode": {
    "name": "ipython",
    "version": 3
   },
   "file_extension": ".py",
   "mimetype": "text/x-python",
   "name": "python",
   "nbconvert_exporter": "python",
   "pygments_lexer": "ipython3",
   "version": "3.9.16"
  }
 },
 "nbformat": 4,
 "nbformat_minor": 5
}
